{
 "cells": [
  {
   "cell_type": "markdown",
   "metadata": {},
   "source": [
    "Kaggle Competition: Classify Mobile Users\n",
    "-----------------------------------------------\n",
    "\n",
    "This is an analysis for the [TalkingData Mobile User Demographics](https://www.kaggle.com/c/talkingdata-mobile-user-demographics) Kaggle competition. The competition was already closed when I started this, but I went through it for practice. I got a score of 2.29, which, if I had been able to join the leaderboard, would have been at position 1028 out of 1689; a decent enough score for a simple approach.\n",
    "\n",
    "From the discussion board of the competition, it seems like many people used `xgboost` for this challenge, but I've done a competition with `xgboost` before, so I'll try something else: logistic regression. This was not so trivial, because I quickly ran out of memory to store my one-hot encoded features. Full credit goes to the person who made [this beautiful kernel](https://www.kaggle.com/dvasyukova/a-linear-model-on-apps-and-labels) available for teaching me how to get around that.\n",
    "\n",
    "The challenge is to classify the users of mobile devices into several age categories, and also into whether they are male or female. The data on which to base the classification consists of the type of phone they have and what apps they use. Some additional information is available, but I'll focus on those pieces of information.\n",
    "\n",
    "The apps someone uses probably says a lot about who they are: do they play a lot of games on their phone or not, for instance? That's why I'll start with the apps."
   ]
  },
  {
   "cell_type": "code",
   "execution_count": 1,
   "metadata": {
    "collapsed": true
   },
   "outputs": [],
   "source": [
    "import pandas as pd\n",
    "import numpy as np\n",
    "import matplotlib.pyplot as plt\n",
    "from sklearn.preprocessing import LabelEncoder\n",
    "from scipy.sparse import csr_matrix, hstack\n",
    "from sklearn.linear_model import LogisticRegression, LogisticRegressionCV"
   ]
  },
  {
   "cell_type": "markdown",
   "metadata": {},
   "source": [
    "# Classifying based on apps installed\n",
    "\n",
    "The data in `events.csv` gives us a list of events happening on different devices. The file `app_events` tells us what this event means: the ID of the corresponding app, and whether at that event the app is installed and active. The `is_installed` column is always 1, so if an app is present in this list, it is installed on the device.\n",
    "\n",
    "Let's use this to build our first set of features: the apps that a device has installed. We'll load up the data and merge the two datafiles into the format we want to use."
   ]
  },
  {
   "cell_type": "code",
   "execution_count": 2,
   "metadata": {},
   "outputs": [
    {
     "data": {
      "text/html": [
       "<div>\n",
       "<style>\n",
       "    .dataframe thead tr:only-child th {\n",
       "        text-align: right;\n",
       "    }\n",
       "\n",
       "    .dataframe thead th {\n",
       "        text-align: left;\n",
       "    }\n",
       "\n",
       "    .dataframe tbody tr th {\n",
       "        vertical-align: top;\n",
       "    }\n",
       "</style>\n",
       "<table border=\"1\" class=\"dataframe\">\n",
       "  <thead>\n",
       "    <tr style=\"text-align: right;\">\n",
       "      <th></th>\n",
       "      <th>app_id</th>\n",
       "      <th>device_id</th>\n",
       "    </tr>\n",
       "  </thead>\n",
       "  <tbody>\n",
       "    <tr>\n",
       "      <th>0</th>\n",
       "      <td>5927333115845830913</td>\n",
       "      <td>-6401643145415154744</td>\n",
       "    </tr>\n",
       "    <tr>\n",
       "      <th>1</th>\n",
       "      <td>-5720078949152207372</td>\n",
       "      <td>-6401643145415154744</td>\n",
       "    </tr>\n",
       "    <tr>\n",
       "      <th>2</th>\n",
       "      <td>-1633887856876571208</td>\n",
       "      <td>-6401643145415154744</td>\n",
       "    </tr>\n",
       "    <tr>\n",
       "      <th>3</th>\n",
       "      <td>-653184325010919369</td>\n",
       "      <td>-6401643145415154744</td>\n",
       "    </tr>\n",
       "    <tr>\n",
       "      <th>4</th>\n",
       "      <td>8693964245073640147</td>\n",
       "      <td>-6401643145415154744</td>\n",
       "    </tr>\n",
       "  </tbody>\n",
       "</table>\n",
       "</div>"
      ],
      "text/plain": [
       "                app_id            device_id\n",
       "0  5927333115845830913 -6401643145415154744\n",
       "1 -5720078949152207372 -6401643145415154744\n",
       "2 -1633887856876571208 -6401643145415154744\n",
       "3  -653184325010919369 -6401643145415154744\n",
       "4  8693964245073640147 -6401643145415154744"
      ]
     },
     "execution_count": 2,
     "metadata": {},
     "output_type": "execute_result"
    }
   ],
   "source": [
    "# Load files; only the columns we care about\n",
    "events = pd.read_csv('input/events.csv', usecols = ['event_id', 'device_id'])\n",
    "app_events = pd.read_csv('input/app_events.csv', usecols = ['event_id', 'app_id'])\n",
    "\n",
    "\n",
    "device_apps = (\n",
    "    app_events\n",
    "    \n",
    "     # Merge on event_id\n",
    "    .merge(events, how = 'left', left_on = 'event_id', right_on = 'event_id')\n",
    "    \n",
    "     # event_id itself is not interesting\n",
    "    .drop('event_id', axis = 1)\n",
    "    \n",
    "     # Because the events correspond to more than just\n",
    "     # being installed, there are many duplicates\n",
    "    .drop_duplicates()\n",
    ")\n",
    "\n",
    "# Our data now looks like this\n",
    "device_apps.head()"
   ]
  },
  {
   "cell_type": "markdown",
   "metadata": {},
   "source": [
    "In order to perform logistic regression, we need to one-hot encode our apps. Unfortunately there are just too many of them:"
   ]
  },
  {
   "cell_type": "code",
   "execution_count": 3,
   "metadata": {},
   "outputs": [
    {
     "data": {
      "text/plain": [
       "19237"
      ]
     },
     "execution_count": 3,
     "metadata": {},
     "output_type": "execute_result"
    }
   ],
   "source": [
    "# Too many apps. \n",
    "device_apps['app_id'].value_counts().size"
   ]
  },
  {
   "cell_type": "markdown",
   "metadata": {},
   "source": [
    "A naive call to `pd.get_dummies()` quickly results in a memory error. My machine, at least, is not able to deal with creating so many dummies.\n",
    "\n",
    "However, for any given device, almost certainly only a very small subset of apps is installed. We can therefore encode our dummy variables in a sparse matrix. To do so, we will use `csr_matrix` from `scipy`, which stores the data in [Compressed Sparse Row](https://en.wikipedia.org/wiki/Sparse_matrix#Compressed_sparse_row_.28CSR.2C_CRS_or_Yale_format.29) format. To do so, we need to give it the non-zero values in the matrix (i.e. all the 1s for the apps a given device has installed), and the row and column indices where they are supposed to go.\n",
    "\n",
    "We want to end up with a matrix whose rows are the devices listed in the `gender_age_train.csv` or `gender_age_test.csv` files. Therefore we will load up the appropriate file (we'll start with the training set) and number its rows."
   ]
  },
  {
   "cell_type": "code",
   "execution_count": 4,
   "metadata": {},
   "outputs": [
    {
     "data": {
      "text/html": [
       "<div>\n",
       "<style>\n",
       "    .dataframe thead tr:only-child th {\n",
       "        text-align: right;\n",
       "    }\n",
       "\n",
       "    .dataframe thead th {\n",
       "        text-align: left;\n",
       "    }\n",
       "\n",
       "    .dataframe tbody tr th {\n",
       "        vertical-align: top;\n",
       "    }\n",
       "</style>\n",
       "<table border=\"1\" class=\"dataframe\">\n",
       "  <thead>\n",
       "    <tr style=\"text-align: right;\">\n",
       "      <th></th>\n",
       "      <th>device_id</th>\n",
       "      <th>gender</th>\n",
       "      <th>age</th>\n",
       "      <th>group</th>\n",
       "      <th>rownum</th>\n",
       "    </tr>\n",
       "  </thead>\n",
       "  <tbody>\n",
       "    <tr>\n",
       "      <th>0</th>\n",
       "      <td>-8076087639492063270</td>\n",
       "      <td>M</td>\n",
       "      <td>35</td>\n",
       "      <td>M32-38</td>\n",
       "      <td>0</td>\n",
       "    </tr>\n",
       "    <tr>\n",
       "      <th>1</th>\n",
       "      <td>-2897161552818060146</td>\n",
       "      <td>M</td>\n",
       "      <td>35</td>\n",
       "      <td>M32-38</td>\n",
       "      <td>1</td>\n",
       "    </tr>\n",
       "    <tr>\n",
       "      <th>2</th>\n",
       "      <td>-8260683887967679142</td>\n",
       "      <td>M</td>\n",
       "      <td>35</td>\n",
       "      <td>M32-38</td>\n",
       "      <td>2</td>\n",
       "    </tr>\n",
       "    <tr>\n",
       "      <th>3</th>\n",
       "      <td>-4938849341048082022</td>\n",
       "      <td>M</td>\n",
       "      <td>30</td>\n",
       "      <td>M29-31</td>\n",
       "      <td>3</td>\n",
       "    </tr>\n",
       "    <tr>\n",
       "      <th>4</th>\n",
       "      <td>245133531816851882</td>\n",
       "      <td>M</td>\n",
       "      <td>30</td>\n",
       "      <td>M29-31</td>\n",
       "      <td>4</td>\n",
       "    </tr>\n",
       "  </tbody>\n",
       "</table>\n",
       "</div>"
      ],
      "text/plain": [
       "             device_id gender  age   group  rownum\n",
       "0 -8076087639492063270      M   35  M32-38       0\n",
       "1 -2897161552818060146      M   35  M32-38       1\n",
       "2 -8260683887967679142      M   35  M32-38       2\n",
       "3 -4938849341048082022      M   30  M29-31       3\n",
       "4   245133531816851882      M   30  M29-31       4"
      ]
     },
     "execution_count": 4,
     "metadata": {},
     "output_type": "execute_result"
    }
   ],
   "source": [
    "# Load up the training data\n",
    "gender_age_train = pd.read_csv('input/gender_age_train.csv')\n",
    "\n",
    "# Numbers its rows in a new column\n",
    "gender_age_train['rownum'] = gender_age_train.index\n",
    "\n",
    "# We now have this \n",
    "gender_age_train.head()"
   ]
  },
  {
   "cell_type": "markdown",
   "metadata": {},
   "source": [
    "The columns of our feature matrix should represent the different apps, one column each. To assign consecutive numbers to the apps, we can use `sklearn`'s `LabelEncoder`:"
   ]
  },
  {
   "cell_type": "code",
   "execution_count": 5,
   "metadata": {},
   "outputs": [
    {
     "data": {
      "text/html": [
       "<div>\n",
       "<style>\n",
       "    .dataframe thead tr:only-child th {\n",
       "        text-align: right;\n",
       "    }\n",
       "\n",
       "    .dataframe thead th {\n",
       "        text-align: left;\n",
       "    }\n",
       "\n",
       "    .dataframe tbody tr th {\n",
       "        vertical-align: top;\n",
       "    }\n",
       "</style>\n",
       "<table border=\"1\" class=\"dataframe\">\n",
       "  <thead>\n",
       "    <tr style=\"text-align: right;\">\n",
       "      <th></th>\n",
       "      <th>device_id</th>\n",
       "      <th>app</th>\n",
       "      <th>rownum</th>\n",
       "    </tr>\n",
       "  </thead>\n",
       "  <tbody>\n",
       "    <tr>\n",
       "      <th>19</th>\n",
       "      <td>1476664663289716375</td>\n",
       "      <td>1819</td>\n",
       "      <td>51154.0</td>\n",
       "    </tr>\n",
       "    <tr>\n",
       "      <th>20</th>\n",
       "      <td>1476664663289716375</td>\n",
       "      <td>15784</td>\n",
       "      <td>51154.0</td>\n",
       "    </tr>\n",
       "    <tr>\n",
       "      <th>21</th>\n",
       "      <td>1476664663289716375</td>\n",
       "      <td>15408</td>\n",
       "      <td>51154.0</td>\n",
       "    </tr>\n",
       "    <tr>\n",
       "      <th>22</th>\n",
       "      <td>1476664663289716375</td>\n",
       "      <td>13094</td>\n",
       "      <td>51154.0</td>\n",
       "    </tr>\n",
       "    <tr>\n",
       "      <th>23</th>\n",
       "      <td>1476664663289716375</td>\n",
       "      <td>5733</td>\n",
       "      <td>51154.0</td>\n",
       "    </tr>\n",
       "  </tbody>\n",
       "</table>\n",
       "</div>"
      ],
      "text/plain": [
       "              device_id    app   rownum\n",
       "19  1476664663289716375   1819  51154.0\n",
       "20  1476664663289716375  15784  51154.0\n",
       "21  1476664663289716375  15408  51154.0\n",
       "22  1476664663289716375  13094  51154.0\n",
       "23  1476664663289716375   5733  51154.0"
      ]
     },
     "execution_count": 5,
     "metadata": {},
     "output_type": "execute_result"
    }
   ],
   "source": [
    "# Build numerical labels for our apps\n",
    "appencoder = LabelEncoder().fit(device_apps.app_id)\n",
    "\n",
    "# Store in a new column\n",
    "device_apps['app'] = appencoder.transform(device_apps.app_id)\n",
    "\n",
    "# Combining with our row numbers\n",
    "sparse_encoding_apps = (\n",
    "    device_apps[['device_id', 'app']]\n",
    "    \n",
    "    # Grab rownum\n",
    "    .merge(gender_age_train[['device_id','rownum']], how = 'left', left_on = 'device_id', right_on = 'device_id')\n",
    "    \n",
    "    # Some devices are not in the training set\n",
    "    .dropna()\n",
    ")\n",
    "\n",
    "# We now have a dataframe encoding all the locations where\n",
    "# our sparse matrix should have a 1 instead of a 0.\n",
    "sparse_encoding_apps.head()"
   ]
  },
  {
   "cell_type": "markdown",
   "metadata": {},
   "source": [
    "Using the dataframe we just created, we can now build our sparse matrix. Using `csr_matrix( (data, (row_indices, column_indices) ) )`, it builds it as follows."
   ]
  },
  {
   "cell_type": "code",
   "execution_count": 6,
   "metadata": {
    "collapsed": true
   },
   "outputs": [],
   "source": [
    "# Building our sparse feature matrix\n",
    "sparse_app_matrix = (\n",
    "    csr_matrix(\n",
    "        (\n",
    "            # We need as many 1s as there are\n",
    "            # rows in our training set\n",
    "            np.ones(sparse_encoding_apps.shape[0]), \n",
    "            \n",
    "            # The rownum and app columns give\n",
    "            # us the indices at which to place\n",
    "            # the 1s\n",
    "            (\n",
    "                sparse_encoding_apps['rownum'], \n",
    "                sparse_encoding_apps['app']\n",
    "            )\n",
    "        )\n",
    "    )\n",
    ")"
   ]
  },
  {
   "cell_type": "markdown",
   "metadata": {},
   "source": [
    "Our data structure is of course hard to inspect now, but we can look at aggregate quantities. Let's try to get a feel for what our data looks like."
   ]
  },
  {
   "cell_type": "code",
   "execution_count": 7,
   "metadata": {},
   "outputs": [
    {
     "data": {
      "image/png": "[encoded data removed]",
      "text/plain": [
       "<matplotlib.figure.Figure at 0x7fae75e418d0>"
      ]
     },
     "metadata": {},
     "output_type": "display_data"
    }
   ],
   "source": [
    "# Let's plot the number of apps that each device\n",
    "# has installed\n",
    "plt.plot(\n",
    "    range(sparse_app_matrix.shape[0]),\n",
    "    np.sort(np.asarray(sparse_app_matrix.sum(axis=1)).flatten())[::-1],\n",
    "    label = 'Number of apps per device, sorted'\n",
    ")\n",
    "plt.axhline(\n",
    "    sparse_app_matrix.sum(axis=1).mean(), \n",
    "    color = 'black', \n",
    "    label = 'Average number of apps installed'\n",
    ")\n",
    "plt.legend()\n",
    "plt.show()"
   ]
  },
  {
   "cell_type": "markdown",
   "metadata": {},
   "source": [
    "In the plot above we see that many devices actually don't have apps installed, as far as we know. Unfortunately, that will hamper our ability to classify them. Perhaps other parts of the data set will help us with those, but for now we simply take note of this limitation."
   ]
  },
  {
   "cell_type": "code",
   "execution_count": 8,
   "metadata": {},
   "outputs": [
    {
     "data": {
      "image/png": "[encoded data removed]",
      "text/plain": [
       "<matplotlib.figure.Figure at 0x7fae21f18710>"
      ]
     },
     "metadata": {},
     "output_type": "display_data"
    }
   ],
   "source": [
    "# Let's plot the number of times the apps are\n",
    "# installed on devices\n",
    "plt.gcf().clear()\n",
    "plt.plot(\n",
    "    range(sparse_app_matrix.shape[1]),\n",
    "    np.sort(np.asarray(sparse_app_matrix.sum(axis=0)).flatten())[::-1],\n",
    "    label = 'Number of times app is installed, sorted'\n",
    ")\n",
    "plt.axvline(\n",
    "    np.where(np.sort(np.asarray(sparse_app_matrix.sum(axis=0)).flatten())[::-1]==0)[0][0], \n",
    "    0,\n",
    "    0.8,\n",
    "    color = 'black',\n",
    "    label = 'To the right of this line, zero installs'\n",
    ")\n",
    "plt.legend()\n",
    "plt.show()"
   ]
  },
  {
   "cell_type": "markdown",
   "metadata": {},
   "source": [
    "The second plot shows that most apps are not used very much. Some don't appear at all. This means the features corresponding to these apps will not be very useful. In the case of apps that are not installed on any devices, we might as well throw these features away. However, we will trust regularization to appropriately pick the important features.\n",
    "\n",
    "Now that we have our sparse feature data, we can fit our logistic regression. Considering that there are features we expect to be useless, we might prefer to do a lasso regression. Unfortunately, scikit-learn doesn't currently provide support for multinomial lasso regression, and we will use ridge regression instead.\n",
    "\n",
    "We need to choose the regularization coefficient for our fit, for which we'll use cross validation."
   ]
  },
  {
   "cell_type": "code",
   "execution_count": 9,
   "metadata": {},
   "outputs": [
    {
     "data": {
      "image/png": "[encoded data removed]",
      "text/plain": [
       "<matplotlib.figure.Figure at 0x7fae75958ac8>"
      ]
     },
     "metadata": {},
     "output_type": "display_data"
    }
   ],
   "source": [
    "# Set up the targets\n",
    "target = gender_age_train['group'].values\n",
    "\n",
    "# Set up our classifier\n",
    "logreg_cv = LogisticRegressionCV(\n",
    "    # Values to try for regularization\n",
    "    Cs = [0.0001, 0.001, 0.01, 0.1, 1.0, 10.0],\n",
    "    \n",
    "    # Lasso not available\n",
    "    penalty = 'l2',        \n",
    "    \n",
    "    # We need probabilities\n",
    "    multi_class = 'multinomial', \n",
    "    \n",
    "    # This solver seems to be fastest\n",
    "    solver = 'lbfgs',\n",
    "    \n",
    "    # Give it some time\n",
    "    max_iter = 1000,\n",
    "    \n",
    "    # CV folds\n",
    "    cv = 5,\n",
    "    \n",
    "    # Paralellized for 6-core machine\n",
    "    n_jobs = 6,\n",
    "    \n",
    "    # We want the log-loss score\n",
    "    scoring = 'neg_log_loss'\n",
    ")\n",
    "\n",
    "# Fit to our data\n",
    "logreg_cv.fit(sparse_app_matrix, target)\n",
    "\n",
    "# Plot the results\n",
    "plt.plot([0.0001, 0.001, 0.01, 0.1, 1.0, 10.0], -logreg_cv.scores_.popitem()[1].mean(axis = 0))\n",
    "plt.xscale(\"log\")\n",
    "plt.show()"
   ]
  },
  {
   "cell_type": "markdown",
   "metadata": {},
   "source": [
    "We see that the optimal value for the regularization is around 0.01, and we're reaching a score of around 2.37, which is on the lower end of the Kaggle leaderboard. We can look at a finer grid around 0.01 and optimize a bit further, allowing us to dip a little lower."
   ]
  },
  {
   "cell_type": "code",
   "execution_count": 10,
   "metadata": {},
   "outputs": [
    {
     "data": {
      "image/png": "[encoded data removed]",
      "text/plain": [
       "<matplotlib.figure.Figure at 0x7fae1e602ac8>"
      ]
     },
     "metadata": {},
     "output_type": "display_data"
    }
   ],
   "source": [
    "logreg_cv = LogisticRegressionCV(\n",
    "    Cs = [0.05, 0.075, 0.1, 0.125, 0.15, 0.175, 0.2],\n",
    "    penalty = 'l2', \n",
    "    multi_class = 'multinomial',\n",
    "    solver = 'lbfgs',\n",
    "    max_iter = 1000,\n",
    "    cv = 5,\n",
    "    n_jobs = 6,\n",
    "    scoring = 'neg_log_loss'\n",
    ")\n",
    "logreg_cv.fit(sparse_app_matrix, target)\n",
    "plt.plot([0.05, 0.075, 0.1, 0.125, 0.15, 0.175, 0.2], -logreg_cv.scores_.popitem()[1].mean(axis = 0))\n",
    "plt.show()"
   ]
  },
  {
   "cell_type": "markdown",
   "metadata": {},
   "source": [
    "# Adding phone brands and models\n",
    "\n",
    "Classifying users based on their apps seems to work quite well, but let's see if we can improve our score by including another part of the data set. Users in different categories may also prefer different brands and models of phones, so this may add some predictive power. The file `phone_brand_device_model.csv` contains for each device the brand and model:"
   ]
  },
  {
   "cell_type": "code",
   "execution_count": 11,
   "metadata": {},
   "outputs": [
    {
     "data": {
      "text/html": [
       "<div>\n",
       "<style>\n",
       "    .dataframe thead tr:only-child th {\n",
       "        text-align: right;\n",
       "    }\n",
       "\n",
       "    .dataframe thead th {\n",
       "        text-align: left;\n",
       "    }\n",
       "\n",
       "    .dataframe tbody tr th {\n",
       "        vertical-align: top;\n",
       "    }\n",
       "</style>\n",
       "<table border=\"1\" class=\"dataframe\">\n",
       "  <thead>\n",
       "    <tr style=\"text-align: right;\">\n",
       "      <th></th>\n",
       "      <th>device_id</th>\n",
       "      <th>phone_brand</th>\n",
       "      <th>device_model</th>\n",
       "    </tr>\n",
       "  </thead>\n",
       "  <tbody>\n",
       "    <tr>\n",
       "      <th>0</th>\n",
       "      <td>-8890648629457979026</td>\n",
       "      <td>小米</td>\n",
       "      <td>红米</td>\n",
       "    </tr>\n",
       "    <tr>\n",
       "      <th>1</th>\n",
       "      <td>1277779817574759137</td>\n",
       "      <td>小米</td>\n",
       "      <td>MI 2</td>\n",
       "    </tr>\n",
       "    <tr>\n",
       "      <th>2</th>\n",
       "      <td>5137427614288105724</td>\n",
       "      <td>三星</td>\n",
       "      <td>Galaxy S4</td>\n",
       "    </tr>\n",
       "    <tr>\n",
       "      <th>3</th>\n",
       "      <td>3669464369358936369</td>\n",
       "      <td>SUGAR</td>\n",
       "      <td>时尚手机</td>\n",
       "    </tr>\n",
       "    <tr>\n",
       "      <th>4</th>\n",
       "      <td>-5019277647504317457</td>\n",
       "      <td>三星</td>\n",
       "      <td>Galaxy Note 2</td>\n",
       "    </tr>\n",
       "  </tbody>\n",
       "</table>\n",
       "</div>"
      ],
      "text/plain": [
       "             device_id phone_brand   device_model\n",
       "0 -8890648629457979026          小米             红米\n",
       "1  1277779817574759137          小米           MI 2\n",
       "2  5137427614288105724          三星      Galaxy S4\n",
       "3  3669464369358936369       SUGAR           时尚手机\n",
       "4 -5019277647504317457          三星  Galaxy Note 2"
      ]
     },
     "execution_count": 11,
     "metadata": {},
     "output_type": "execute_result"
    }
   ],
   "source": [
    "phones = pd.read_csv('input/phone_brand_device_model.csv')\n",
    "phones.head()"
   ]
  },
  {
   "cell_type": "markdown",
   "metadata": {},
   "source": [
    "We now want to create a feature matrix just as we did for the apps. We now have two columns, brand and model. The brands may be expected to be a good predictor, so we'll start with those."
   ]
  },
  {
   "cell_type": "code",
   "execution_count": 12,
   "metadata": {},
   "outputs": [
    {
     "data": {
      "image/png": "[encoded data removed]",
      "text/plain": [
       "<matplotlib.figure.Figure at 0x7fae21f56278>"
      ]
     },
     "metadata": {},
     "output_type": "display_data"
    }
   ],
   "source": [
    "# Build numerical labels for our brands\n",
    "brandencoder = LabelEncoder().fit(phones['phone_brand'])\n",
    "\n",
    "# Store in a new column\n",
    "phones['brand'] = brandencoder.transform(phones['phone_brand'])\n",
    "\n",
    "# Combining with our row numbers\n",
    "sparse_encoding_brands = (\n",
    "    phones[['device_id', 'brand']]\n",
    "    \n",
    "    # Grab the rownum\n",
    "    .merge(gender_age_train[['device_id','rownum']], how = 'left', left_on = 'device_id', right_on = 'device_id')\n",
    "    \n",
    "    # Some devices are not in the training set\n",
    "    .dropna()\n",
    ")\n",
    "\n",
    "# Building our sparse feature matrix\n",
    "sparse_brand_matrix = (\n",
    "    csr_matrix(\n",
    "        (\n",
    "            # We need as many 1s as there are\n",
    "            # rows in our training set\n",
    "            np.ones(sparse_encoding_brands.shape[0]), \n",
    "            \n",
    "            # The rownum and app columns give\n",
    "            # us the indices at which to place\n",
    "            # the 1s\n",
    "            (\n",
    "                sparse_encoding_brands['rownum'], \n",
    "                sparse_encoding_brands['brand']\n",
    "            )\n",
    "        )\n",
    "    )\n",
    ")\n",
    "\n",
    "# Let's plot the number of times a brand\n",
    "# occurs\n",
    "plt.gcf().clear()\n",
    "plt.plot(\n",
    "    range(sparse_brand_matrix.shape[1]),\n",
    "    np.sort(np.asarray(sparse_brand_matrix.sum(axis=0)).flatten())[::-1],\n",
    "    label = 'Number of phones by brand, sorted'\n",
    ")\n",
    "plt.axvline(\n",
    "    np.where(np.sort(np.asarray(sparse_brand_matrix.sum(axis=0)).flatten())[::-1]==0)[0][0], \n",
    "    0,\n",
    "    0.8,\n",
    "    color = 'black',\n",
    "    label = 'To the right of this line, no phones'\n",
    ")\n",
    "plt.legend()\n",
    "plt.show()"
   ]
  },
  {
   "cell_type": "markdown",
   "metadata": {},
   "source": [
    "Above, we've simply replicated the procedure we used for the apps to build a new sparse matrix. The plot shows the number of times the brands occur in the dataset, and we see again that many brands are not very prevalent, meaning these features are probably not very useful, and regularization is also important here.\n",
    "\n",
    "We can now combine our new features with the app features and create a new classifier."
   ]
  },
  {
   "cell_type": "code",
   "execution_count": 13,
   "metadata": {},
   "outputs": [
    {
     "data": {
      "image/png": "[encoded data removed]",
      "text/plain": [
       "<matplotlib.figure.Figure at 0x7fae1e644080>"
      ]
     },
     "metadata": {},
     "output_type": "display_data"
    }
   ],
   "source": [
    "logreg_cv = LogisticRegressionCV(\n",
    "    Cs = [0.05, 0.075, 0.1, 0.125, 0.15, 0.175, 0.2],\n",
    "    penalty = 'l2', \n",
    "    multi_class = 'multinomial',\n",
    "    solver = 'lbfgs',\n",
    "    max_iter = 1000,\n",
    "    cv = 5,\n",
    "    n_jobs = 6,\n",
    "    scoring = 'neg_log_loss'\n",
    ")\n",
    "logreg_cv.fit(hstack([sparse_app_matrix, sparse_brand_matrix]), target)\n",
    "plt.plot([0.05, 0.075, 0.1, 0.125, 0.15, 0.175, 0.2], -logreg_cv.scores_.popitem()[1].mean(axis = 0))\n",
    "plt.show()"
   ]
  },
  {
   "cell_type": "markdown",
   "metadata": {},
   "source": [
    "The optimal value for the regularization has shifted a little, but more importantly, our score has improved to about 2.355. What happens if we also add the phone models?\n",
    "\n",
    "The models require a little bit of preprocessing, because different brands seem to use the same model names sometimes."
   ]
  },
  {
   "cell_type": "code",
   "execution_count": 14,
   "metadata": {},
   "outputs": [
    {
     "name": "stdout",
     "output_type": "stream",
     "text": [
      "Number of distinct model names: 1599\n",
      "Number of distinct brand+model names: 1667\n"
     ]
    }
   ],
   "source": [
    "print('Number of distinct model names: ' + str(phones.groupby(['device_model']).size().shape[0]))\n",
    "print('Number of distinct brand+model names: ' + str(phones.groupby(['phone_brand','device_model']).size().shape[0]))"
   ]
  },
  {
   "cell_type": "markdown",
   "metadata": {},
   "source": [
    "That means we will have to combine the two columns into one, before building our features."
   ]
  },
  {
   "cell_type": "code",
   "execution_count": 15,
   "metadata": {},
   "outputs": [
    {
     "data": {
      "image/png": "[encoded data removed]",
      "text/plain": [
       "<matplotlib.figure.Figure at 0x7fae1e6c3898>"
      ]
     },
     "metadata": {},
     "output_type": "display_data"
    }
   ],
   "source": [
    "# Combine the two columns\n",
    "phones['brand_and_model'] = phones['phone_brand'].astype(str) + phones['device_model']\n",
    "\n",
    "# Build numerical labels for our models\n",
    "modelencoder = LabelEncoder().fit(phones['brand_and_model'])\n",
    "\n",
    "# Store in a new column\n",
    "phones['model'] = modelencoder.transform(phones['brand_and_model'])\n",
    "\n",
    "# Combining with our row numbers\n",
    "sparse_encoding_models = (\n",
    "    phones[['device_id', 'model']]\n",
    "    \n",
    "    # Grab the rownum\n",
    "    .merge(gender_age_train[['device_id','rownum']], how = 'left', left_on = 'device_id', right_on = 'device_id')\n",
    "    \n",
    "    # Some devices are not in the training set\n",
    "    .dropna()\n",
    ")\n",
    "\n",
    "# Building our sparse feature matrix\n",
    "sparse_model_matrix = (\n",
    "    csr_matrix(\n",
    "        (\n",
    "            # We need as many 1s as there are\n",
    "            # rows in our training set\n",
    "            np.ones(sparse_encoding_models.shape[0]), \n",
    "            \n",
    "            # The rownum and app columns give\n",
    "            # us the indices at which to place\n",
    "            # the 1s\n",
    "            (\n",
    "                sparse_encoding_models['rownum'], \n",
    "                sparse_encoding_models['model']\n",
    "            )\n",
    "        )\n",
    "    )\n",
    ")\n",
    "\n",
    "# Let's plot the number of times a brand\n",
    "# occurs\n",
    "plt.gcf().clear()\n",
    "plt.plot(\n",
    "    range(sparse_model_matrix.shape[1]),\n",
    "    np.sort(np.asarray(sparse_model_matrix.sum(axis=0)).flatten())[::-1],\n",
    "    label = 'Number of phones by model, sorted'\n",
    ")\n",
    "plt.axvline(\n",
    "    np.where(np.sort(np.asarray(sparse_model_matrix.sum(axis=0)).flatten())[::-1]==0)[0][0], \n",
    "    0,\n",
    "    0.8,\n",
    "    color = 'black',\n",
    "    label = 'To the right of this line, no phones'\n",
    ")\n",
    "plt.legend()\n",
    "plt.show()"
   ]
  },
  {
   "cell_type": "code",
   "execution_count": 16,
   "metadata": {},
   "outputs": [
    {
     "data": {
      "image/png": "[encoded data removed]",
      "text/plain": [
       "<matplotlib.figure.Figure at 0x7fae1e686b38>"
      ]
     },
     "metadata": {},
     "output_type": "display_data"
    }
   ],
   "source": [
    "logreg_cv = LogisticRegressionCV(\n",
    "    Cs = [0.05, 0.075, 0.1, 0.125, 0.15, 0.175, 0.2],\n",
    "    penalty = 'l2', \n",
    "    multi_class = 'multinomial',\n",
    "    solver = 'lbfgs',\n",
    "    max_iter = 1000,\n",
    "    cv = 5,\n",
    "    n_jobs = 6,\n",
    "    scoring = 'neg_log_loss'\n",
    ")\n",
    "logreg_cv.fit(hstack([sparse_app_matrix, sparse_brand_matrix, sparse_model_matrix]), target)\n",
    "plt.plot([0.05, 0.075, 0.1, 0.125, 0.15, 0.175, 0.2], -logreg_cv.scores_.popitem()[1].mean(axis = 0))\n",
    "plt.show()"
   ]
  },
  {
   "cell_type": "markdown",
   "metadata": {},
   "source": [
    "Adding the models has given us a small improvement, but not as substantial as the brands.\n",
    "\n",
    "Now we're ready to predict on the test set. We have to build sparse features for the test data as well, which works the same as before."
   ]
  },
  {
   "cell_type": "code",
   "execution_count": 17,
   "metadata": {},
   "outputs": [],
   "source": [
    "# Load in the data\n",
    "gender_age_test = pd.read_csv('input/gender_age_test.csv')\n",
    "gender_age_test['rownum'] = gender_age_test.index\n",
    "\n",
    "# Generate sparse feature matrices\n",
    "\n",
    "sparse_encoding_test_apps = (\n",
    "    device_apps[['device_id', 'app']]    \n",
    "    .merge(gender_age_test[['device_id','rownum']], how = 'left', left_on = 'device_id', right_on = 'device_id')    \n",
    "    .dropna()\n",
    ")\n",
    "\n",
    "sparse_app_test_matrix = (\n",
    "    csr_matrix(\n",
    "        (\n",
    "            np.ones(sparse_encoding_test_apps.shape[0]),             \n",
    "            (\n",
    "                sparse_encoding_test_apps['rownum'], \n",
    "                sparse_encoding_test_apps['app']\n",
    "            )\n",
    "        ),\n",
    "        shape = (gender_age_test.shape[0], appencoder.classes_.size)\n",
    "    )\n",
    ")\n",
    "\n",
    "sparse_encoding_test_brands = (\n",
    "    phones[['device_id', 'brand']]    \n",
    "    .merge(gender_age_test[['device_id','rownum']], how = 'left', left_on = 'device_id', right_on = 'device_id')    \n",
    "    .dropna()\n",
    ")\n",
    "\n",
    "sparse_brand_test_matrix = (\n",
    "    csr_matrix(\n",
    "        (\n",
    "            np.ones(sparse_encoding_test_brands.shape[0]),             \n",
    "            (\n",
    "                sparse_encoding_test_brands['rownum'], \n",
    "                sparse_encoding_test_brands['brand']\n",
    "            )\n",
    "        ),\n",
    "        shape = (gender_age_test.shape[0], brandencoder.classes_.size)\n",
    "    )\n",
    ")\n",
    "\n",
    "sparse_encoding_test_models = (\n",
    "    phones[['device_id', 'model']]    \n",
    "    .merge(gender_age_test[['device_id','rownum']], how = 'left', left_on = 'device_id', right_on = 'device_id')    \n",
    "    .dropna()\n",
    ")\n",
    "\n",
    "sparse_model_test_matrix = (\n",
    "    csr_matrix(\n",
    "        (\n",
    "            np.ones(sparse_encoding_test_models.shape[0]), \n",
    "            \n",
    "            (\n",
    "                sparse_encoding_test_models['rownum'], \n",
    "                sparse_encoding_test_models['model']\n",
    "            )\n",
    "        ),\n",
    "        shape = (gender_age_test.shape[0], modelencoder.classes_.size)\n",
    "    )\n",
    ")\n",
    "\n",
    "sparse_test_matrix = hstack(\n",
    "    [\n",
    "        sparse_app_test_matrix, \n",
    "        sparse_brand_test_matrix, \n",
    "        sparse_model_test_matrix\n",
    "    ]\n",
    ")\n",
    "\n",
    "sparse_train_matrix = hstack(\n",
    "    [\n",
    "        sparse_app_matrix, \n",
    "        sparse_brand_matrix, \n",
    "        sparse_model_matrix\n",
    "    ]\n",
    ")\n",
    "\n",
    "# Fit logistic regression\n",
    "\n",
    "logreg = LogisticRegression(\n",
    "    C = 0.15,\n",
    "    penalty = 'l2', \n",
    "    multi_class = 'multinomial',\n",
    "    solver = 'lbfgs',\n",
    "    max_iter = 1000,\n",
    "    n_jobs = 6,\n",
    ")\n",
    "\n",
    "logreg.fit(\n",
    "    sparse_train_matrix, \n",
    "    target\n",
    ");"
   ]
  },
  {
   "cell_type": "code",
   "execution_count": 18,
   "metadata": {},
   "outputs": [
    {
     "data": {
      "text/html": [
       "<div>\n",
       "<style>\n",
       "    .dataframe thead tr:only-child th {\n",
       "        text-align: right;\n",
       "    }\n",
       "\n",
       "    .dataframe thead th {\n",
       "        text-align: left;\n",
       "    }\n",
       "\n",
       "    .dataframe tbody tr th {\n",
       "        vertical-align: top;\n",
       "    }\n",
       "</style>\n",
       "<table border=\"1\" class=\"dataframe\">\n",
       "  <thead>\n",
       "    <tr style=\"text-align: right;\">\n",
       "      <th></th>\n",
       "      <th>device_id</th>\n",
       "      <th>F23-</th>\n",
       "      <th>F24-26</th>\n",
       "      <th>F27-28</th>\n",
       "      <th>F29-32</th>\n",
       "      <th>F33-42</th>\n",
       "      <th>F43+</th>\n",
       "      <th>M22-</th>\n",
       "      <th>M23-26</th>\n",
       "      <th>M27-28</th>\n",
       "      <th>M29-31</th>\n",
       "      <th>M32-38</th>\n",
       "      <th>M39+</th>\n",
       "    </tr>\n",
       "  </thead>\n",
       "  <tbody>\n",
       "    <tr>\n",
       "      <th>0</th>\n",
       "      <td>1002079943728939269</td>\n",
       "      <td>0.000279</td>\n",
       "      <td>0.002942</td>\n",
       "      <td>0.016042</td>\n",
       "      <td>0.006316</td>\n",
       "      <td>0.081829</td>\n",
       "      <td>0.042256</td>\n",
       "      <td>0.005911</td>\n",
       "      <td>0.028876</td>\n",
       "      <td>0.046416</td>\n",
       "      <td>0.112581</td>\n",
       "      <td>0.326887</td>\n",
       "      <td>0.329665</td>\n",
       "    </tr>\n",
       "    <tr>\n",
       "      <th>1</th>\n",
       "      <td>-1547860181818787117</td>\n",
       "      <td>0.019343</td>\n",
       "      <td>0.019926</td>\n",
       "      <td>0.020128</td>\n",
       "      <td>0.037448</td>\n",
       "      <td>0.053450</td>\n",
       "      <td>0.071771</td>\n",
       "      <td>0.005519</td>\n",
       "      <td>0.107294</td>\n",
       "      <td>0.154733</td>\n",
       "      <td>0.076825</td>\n",
       "      <td>0.204016</td>\n",
       "      <td>0.229548</td>\n",
       "    </tr>\n",
       "    <tr>\n",
       "      <th>2</th>\n",
       "      <td>7374582448058474277</td>\n",
       "      <td>0.017096</td>\n",
       "      <td>0.025145</td>\n",
       "      <td>0.021448</td>\n",
       "      <td>0.170664</td>\n",
       "      <td>0.147660</td>\n",
       "      <td>0.060522</td>\n",
       "      <td>0.024413</td>\n",
       "      <td>0.045322</td>\n",
       "      <td>0.076498</td>\n",
       "      <td>0.076949</td>\n",
       "      <td>0.185660</td>\n",
       "      <td>0.148623</td>\n",
       "    </tr>\n",
       "    <tr>\n",
       "      <th>3</th>\n",
       "      <td>-6220210354783429585</td>\n",
       "      <td>0.001470</td>\n",
       "      <td>0.013573</td>\n",
       "      <td>0.003913</td>\n",
       "      <td>0.017364</td>\n",
       "      <td>0.054101</td>\n",
       "      <td>0.132143</td>\n",
       "      <td>0.072650</td>\n",
       "      <td>0.175279</td>\n",
       "      <td>0.133988</td>\n",
       "      <td>0.082869</td>\n",
       "      <td>0.110197</td>\n",
       "      <td>0.202454</td>\n",
       "    </tr>\n",
       "    <tr>\n",
       "      <th>4</th>\n",
       "      <td>-5893464122623104785</td>\n",
       "      <td>0.035625</td>\n",
       "      <td>0.075912</td>\n",
       "      <td>0.040787</td>\n",
       "      <td>0.064321</td>\n",
       "      <td>0.049339</td>\n",
       "      <td>0.035300</td>\n",
       "      <td>0.071981</td>\n",
       "      <td>0.175083</td>\n",
       "      <td>0.110833</td>\n",
       "      <td>0.104610</td>\n",
       "      <td>0.143164</td>\n",
       "      <td>0.093045</td>\n",
       "    </tr>\n",
       "  </tbody>\n",
       "</table>\n",
       "</div>"
      ],
      "text/plain": [
       "             device_id      F23-    F24-26    F27-28    F29-32    F33-42  \\\n",
       "0  1002079943728939269  0.000279  0.002942  0.016042  0.006316  0.081829   \n",
       "1 -1547860181818787117  0.019343  0.019926  0.020128  0.037448  0.053450   \n",
       "2  7374582448058474277  0.017096  0.025145  0.021448  0.170664  0.147660   \n",
       "3 -6220210354783429585  0.001470  0.013573  0.003913  0.017364  0.054101   \n",
       "4 -5893464122623104785  0.035625  0.075912  0.040787  0.064321  0.049339   \n",
       "\n",
       "       F43+      M22-    M23-26    M27-28    M29-31    M32-38      M39+  \n",
       "0  0.042256  0.005911  0.028876  0.046416  0.112581  0.326887  0.329665  \n",
       "1  0.071771  0.005519  0.107294  0.154733  0.076825  0.204016  0.229548  \n",
       "2  0.060522  0.024413  0.045322  0.076498  0.076949  0.185660  0.148623  \n",
       "3  0.132143  0.072650  0.175279  0.133988  0.082869  0.110197  0.202454  \n",
       "4  0.035300  0.071981  0.175083  0.110833  0.104610  0.143164  0.093045  "
      ]
     },
     "execution_count": 18,
     "metadata": {},
     "output_type": "execute_result"
    }
   ],
   "source": [
    "# Generate prediction\n",
    "pred = pd.DataFrame(logreg.predict_proba(sparse_test_matrix))\n",
    "\n",
    "# Rename the columns to the classes\n",
    "pred.columns = logreg.classes_\n",
    "\n",
    "# Add device_id column\n",
    "pred.insert(0, 'device_id', gender_age_test['device_id'])\n",
    "\n",
    "# Save\n",
    "pred.to_csv('output/submission.csv', index = False)\n",
    "\n",
    "# Quick look\n",
    "pred.head()"
   ]
  },
  {
   "cell_type": "markdown",
   "metadata": {},
   "source": [
    "Above, we fitted the model on the training set, using the regularization coefficient we found through cross validation. The Kaggle competition was already closed at time of writing, but I generated a submission anyway, which scored 2.29; a reasonable score on the leaderboard for a relatively simple model!"
   ]
  }
 ],
 "metadata": {
  "anaconda-cloud": {},
  "kernelspec": {
   "display_name": "Python [conda root]",
   "language": "python",
   "name": "conda-root-py"
  },
  "language_info": {
   "codemirror_mode": {
    "name": "ipython",
    "version": 3
   },
   "file_extension": ".py",
   "mimetype": "text/x-python",
   "name": "python",
   "nbconvert_exporter": "python",
   "pygments_lexer": "ipython3",
   "version": "3.5.2"
  }
 },
 "nbformat": 4,
 "nbformat_minor": 1
}
