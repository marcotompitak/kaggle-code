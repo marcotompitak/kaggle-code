{
 "cells": [
  {
   "cell_type": "markdown",
   "metadata": {},
   "source": [
    "Kaggle Competition: Zillow Home Valuation Prediction\n",
    "----------------------------------------------------\n",
    "\n",
    "I'm going to use XGBoost to fit a boosted tree ensemble to the data from the [Zillow Kaggle Competition](https://www.kaggle.com/c/zillow-prize-1). The quantity to predict is the size of the error that Zillow's own algorithm has made in predicting housing prices, based on a large number of variables describing the house. Since we're trying to capture the errors in model that's already being used, it will probably be difficult to make any headway, but that's why it's a competition.\n",
    "\n",
    "First we will load the required libraries, load in the data, and preprocess the data."
   ]
  },
  {
   "cell_type": "code",
   "execution_count": 4,
   "metadata": {
    "collapsed": false
   },
   "outputs": [],
   "source": [
    "import warnings; warnings.simplefilter('ignore')\n",
    "\n",
    "import numpy as np\n",
    "import pandas as pd\n",
    "import xgboost as xgb\n",
    "import gc\n",
    "import datetime\n",
    "from matplotlib import pyplot as plt\n",
    "from sklearn.model_selection import train_test_split"
   ]
  },
  {
   "cell_type": "code",
   "execution_count": 5,
   "metadata": {
    "collapsed": false
   },
   "outputs": [],
   "source": [
    "# Competition training data\n",
    "known = pd.read_csv('input/train_2016_v2.csv')\n",
    "\n",
    "# Full set of properties\n",
    "population = pd.read_csv('input/properties_2016.csv')\n",
    "\n",
    "# Properties for which to predict in order to \n",
    "unknown = pd.read_csv('input/sample_submission.csv')"
   ]
  },
  {
   "cell_type": "code",
   "execution_count": 3,
   "metadata": {
    "collapsed": true
   },
   "outputs": [],
   "source": [
    "# Some variables are categorical, and we will split them up using OneHot encoding\n",
    "categorical_cols = [\n",
    "    'airconditioningtypeid',\n",
    "    'architecturalstyletypeid',\n",
    "    'buildingclasstypeid',\n",
    "    'decktypeid',\n",
    "    'fips',\n",
    "    'fireplaceflag',\n",
    "    'hashottuborspa',\n",
    "    'heatingorsystemtypeid',\n",
    "    'storytypeid',\n",
    "    'typeconstructiontypeid',\n",
    "    'taxdelinquencyflag',\n",
    "]\n",
    "\n",
    "# Some variables take on very many categorical values. For the sake of this exercise, we'll drop them.\n",
    "cols_to_drop = [\n",
    "    'rawcensustractandblock',\n",
    "    'censustractandblock',\n",
    "    'propertycountylandusecode',\n",
    "    'propertylandusetypeid',\n",
    "    'propertyzoningdesc',\n",
    "    'regionidcounty',\n",
    "    'regionidcity',\n",
    "    'regionidzip',\n",
    "    'regionidneighborhood',\n",
    "    'taxdelinquencyyear'\n",
    "]\n",
    "\n",
    "# Creating our full dataset\n",
    "df_known = known.merge(population, how='left', on='parcelid')\n",
    "\n",
    "# Dropping selected columns\n",
    "df_known = df_known.drop(cols_to_drop, axis=1)\n",
    "\n",
    "# Re-encoding categorical variables\n",
    "df_known_cat = pd.get_dummies(df_known, columns=categorical_cols)\n",
    "\n",
    "# Transforming the transaction date into an ordinal variable: number of days since 01-01-2015\n",
    "df_known_cat['transactiondate_ordinal'] = pd.to_datetime(df_known_cat['transactiondate'],infer_datetime_format=True) - datetime.date(2015,1,1)\n",
    "df_known_cat['transactiondate_ordinal'] = df_known_cat['transactiondate_ordinal'].dt.days\n",
    "df_known_cat = df_known_cat.drop('transactiondate', axis=1)\n",
    "\n",
    "# Creating our variables and targets\n",
    "X = df_known_cat.drop([\"logerror\", \"parcelid\"], axis=1)\n",
    "y = df_known_cat[\"logerror\"]\n",
    "\n",
    "# Randomly splitting into a training and a validation set\n",
    "X_train, X_test, y_train, y_test = train_test_split(X, y, test_size=0.33, random_state=0)"
   ]
  },
  {
   "cell_type": "markdown",
   "metadata": {},
   "source": [
    "We are now ready for our first attempt at training."
   ]
  },
  {
   "cell_type": "code",
   "execution_count": 4,
   "metadata": {
    "collapsed": false
   },
   "outputs": [
    {
     "name": "stdout",
     "output_type": "stream",
     "text": [
      "0.068397\n"
     ]
    }
   ],
   "source": [
    "# Setting up initial parameters for our model, with arbitrary guesses for the numerical parameters.\n",
    "xgb_params = {\n",
    "    \"objective\": \"reg:linear\", \n",
    "    \"max_depth\": 6, \n",
    "    \"silent\": 0, \n",
    "    'eval_metric': 'mae', \n",
    "    'eta': 0.01\n",
    "}\n",
    "\n",
    "# Maximum number of trees we will collect\n",
    "num_rounds = 1000\n",
    "\n",
    "# Transforming our data into XGBoost's internal DMatrix structure\n",
    "dtrain = xgb.DMatrix(X_train, y_train)\n",
    "dvalid = xgb.DMatrix(X_test, y_test)\n",
    "\n",
    "# Training\n",
    "model = xgb.train(\n",
    "    xgb_params,                           # Training parameters\n",
    "    dtrain,                               # Data\n",
    "    num_rounds,                           # Max number of trees\n",
    "    [(dtrain,'train'),(dvalid,'test')],   # Validation set\n",
    "    early_stopping_rounds=50,            # Stop early if no improvement for 100 rounds\n",
    "    verbose_eval = False\n",
    ")\n",
    "\n",
    "# Best score obtained\n",
    "print(model.best_score)"
   ]
  },
  {
   "cell_type": "markdown",
   "metadata": {},
   "source": [
    "Improving the model\n",
    "-------------------\n",
    "\n",
    "The score above is already pretty decent. At the time of writing, the scores in the Kaggle competition range from around 0.068 to around 0.064. With the model above we are already at the low end. The small range of scores compared to this base score is an indication of how hard this particular problem is.\n",
    "\n",
    "Let us try to improve upon our score. For this exercise, we will not optimize all the hyperparameters of the model, but we will optimize a few. We will use a grid search, using cross validation to assess the performance of the model. In order to be able to run this (computationally expensive) search, this optimization is actually done in two separate Python scripts: `CV_eta.py` and `CV_maxdepth_minchildweight.py`.\n",
    "\n",
    "As indicated by the names, the first script optimizes `eta`, or the learning rate, and the second simulateneously optimizeds `max_depth` (the maximum tree depth) and `min_child_weight`, which in this case places a lower bound on the number of data points on each side of a split in the tree.\n",
    "\n",
    "Looking for the optimal learning rate produces the following plot.\n",
    "\n",
    "![](img/eta.png)\n",
    "\n",
    "In order to accommodate slower learning, we increased the number of trees for this optimization. We see that, in that case, slower learning performs better, pushing the optimal `eta` down to 0.005. However, the validation error remains at 0.68, so as long as the use the right number of trees, our original rate was fine.\n",
    "\n",
    "Considering `max_depth` and `min_child_weight`, we find the following results.\n",
    "\n",
    "![](img/cv2.png)\n",
    "\n",
    "We see that there is no benefit to increasing `min_child_weight` to more than 1. The corresponding curve for `max_depth` is fairly flat: the model is not very sensitive to this value, so we don't expect a big performance boost from tuning it. To avoid overfitting, we will go to smaller depths."
   ]
  },
  {
   "cell_type": "code",
   "execution_count": 5,
   "metadata": {
    "collapsed": false
   },
   "outputs": [
    {
     "name": "stdout",
     "output_type": "stream",
     "text": [
      "0.068047\n"
     ]
    }
   ],
   "source": [
    "# We slightly speed up learning for convenience, and decrease the tree depth\n",
    "xgb_params = {\n",
    "    \"objective\": \"reg:linear\", \n",
    "    \"max_depth\": 3, \n",
    "    \"silent\": 0, \n",
    "    'eval_metric': 'mae', \n",
    "    'eta': 0.02\n",
    "}\n",
    "\n",
    "# Maximum number of trees we will collect\n",
    "num_rounds = 1000\n",
    "\n",
    "# Transforming our data into XGBoost's internal DMatrix structure\n",
    "dtrain = xgb.DMatrix(X_train, y_train)\n",
    "dvalid = xgb.DMatrix(X_test, y_test)\n",
    "\n",
    "# Training\n",
    "model = xgb.train(\n",
    "    xgb_params,                           # Training parameters\n",
    "    dtrain,                               # Data\n",
    "    num_rounds,                           # Max number of trees\n",
    "    [(dtrain,'train'),(dvalid,'test')],   # Validation set\n",
    "    early_stopping_rounds=50,             # Stop early if no improvement for 50 rounds\n",
    "    verbose_eval = False\n",
    ")\n",
    "\n",
    "# Best score obtained\n",
    "print(model.best_score)"
   ]
  },
  {
   "cell_type": "markdown",
   "metadata": {},
   "source": [
    "We could tune further hyperparameters, but the limiting factor here is likely the data itself, judging from the range of scores on the leaderboard, and we should not expect much of a performance boost from tuning. We will therefore leave the parameters for what they are for now, and move on to a different potential improvement.\n",
    "\n",
    "Cutting out outliers\n",
    "--------------------\n",
    "\n",
    "The dataset contains a large number of outliers, including some very large/small ones: "
   ]
  },
  {
   "cell_type": "code",
   "execution_count": 3,
   "metadata": {
    "collapsed": false
   },
   "outputs": [
    {
     "data": {
      "image/png": "[encoded data removed]",
      "text/plain": [
       "<matplotlib.figure.Figure at 0x7f6ac0f032b0>"
      ]
     },
     "metadata": {},
     "output_type": "display_data"
    }
   ],
   "source": [
    "plt.boxplot(known['logerror'])\n",
    "plt.ylabel('logerror')\n",
    "plt.show()"
   ]
  },
  {
   "cell_type": "markdown",
   "metadata": {},
   "source": [
    "Apparently there are houses in the dataset for which Zillow's algorithm made large errors. Normally one might think that the outliers are the most interesting to look at, because that's where there is a lot of room for improvement. However, for our current purposes this may not be the case, because\n",
    "\n",
    "1) the error may be large simply because the price of the house is high;\n",
    "\n",
    "2) for high-value houses, not much data is available, so we may not be able to learn much;\n",
    "\n",
    "3) the market for high-value houses is small, so that prices are dependent on the tastes and funds of available buyers, leading to unpredictable variance.\n",
    "\n",
    "Of course the above may or may not be the real underlying reason for the outliers, but it suggests that it may be worth trying to remove the outliers from the training set, because they may not contain much generalizable information."
   ]
  },
  {
   "cell_type": "code",
   "execution_count": 4,
   "metadata": {
    "collapsed": true
   },
   "outputs": [],
   "source": [
    "# Quick function to find outliers. A data point in a series is considered\n",
    "# an outlier if it is more than the inter-quartile range (IQR), multiplied\n",
    "# by some factor, away from the first or third quartile.\n",
    "def getIQROutlierBool(series, factor):\n",
    "    q1 = series.quantile(0.25) # First quartile\n",
    "    q3 = series.quantile(0.75) # Third quartile\n",
    "    \n",
    "    # Generate a boolean series indicating whether or not the data point is\n",
    "    # within the specified range\n",
    "    iqr = (series > q1-factor*(q3-q1)) & (series < q3+factor*(q3-q1))\n",
    "    return iqr\n",
    "\n",
    "# Apply the filter to our logerror values\n",
    "outlier_filter = getIQROutlierBool(y_train, 1.5)\n",
    "\n",
    "# Cut out the outliers from the training set\n",
    "X_train = X_train[outlier_filter]\n",
    "y_train = y_train[outlier_filter]"
   ]
  },
  {
   "cell_type": "markdown",
   "metadata": {},
   "source": [
    "Above, we have filtered out the outliers from the training set (not from the validation set) by removing all data points that are too far away from the first and third quartiles. If a value is smaller than the first quartile, or larger than the third quartile, by at least 1.5 times the interquartile range (distance between first and third quartiles), we discard it. The factor 1.5 is the standard value, but some manual checks indicate that the result is not strongly dependent on the choice."
   ]
  },
  {
   "cell_type": "code",
   "execution_count": 5,
   "metadata": {
    "collapsed": false
   },
   "outputs": [
    {
     "name": "stdout",
     "output_type": "stream",
     "text": [
      "0.067132\n",
      "1136\n"
     ]
    }
   ],
   "source": [
    "# We keep the parameters\n",
    "xgb_params = {\n",
    "    \"objective\": \"reg:linear\", \n",
    "    \"max_depth\": 3, \n",
    "    \"silent\": 0, \n",
    "    'eval_metric': 'mae', \n",
    "    'eta': 0.02\n",
    "}\n",
    "\n",
    "# Maximum number of trees we will collect\n",
    "num_rounds = 5000\n",
    "\n",
    "# Our X_train and y_train have now been cleaned of outliers\n",
    "dtrain = xgb.DMatrix(X_train, y_train)\n",
    "dvalid = xgb.DMatrix(X_test, y_test)\n",
    "\n",
    "# Training\n",
    "model = xgb.train(\n",
    "    xgb_params,                           # Training parameters\n",
    "    dtrain,                               # Data\n",
    "    num_rounds,                           # Max number of trees\n",
    "    [(dtrain,'train'),(dvalid,'test')],   # Validation set\n",
    "    early_stopping_rounds=50,             # Stop early if no improvement for 50 rounds\n",
    "    verbose_eval = False\n",
    ")\n",
    "\n",
    "# Best score obtained\n",
    "print(model.best_score)\n",
    "print(model.best_iteration)\n",
    "\n",
    "# Save the model\n",
    "model.save_model('xgb_outliersremoved.model')"
   ]
  },
  {
   "cell_type": "markdown",
   "metadata": {},
   "source": [
    "We see that removing the outliers from the training set has improved the score a little bit. We are not yet near the top of the leaderboard (0.064) but we've nudged away from the bottom.\n",
    "\n",
    "(Note that here we are just validating on the test set. The model is saved above, to be used in `predict.py` to generate a submission file for the competition.)\n",
    "\n",
    "Conclusions\n",
    "-----------\n",
    "\n",
    "The Zillow dataset is difficult. We have a predictive model that works, in a sense, but not very well, considering the following plot."
   ]
  },
  {
   "cell_type": "code",
   "execution_count": 9,
   "metadata": {
    "collapsed": false
   },
   "outputs": [
    {
     "data": {
      "image/png": "[encoded data removed]",
      "text/plain": [
       "<matplotlib.figure.Figure at 0x7fb3e30fb278>"
      ]
     },
     "metadata": {},
     "output_type": "display_data"
    }
   ],
   "source": [
    "# Cut out the outliers from the test set for plotting\n",
    "outlier_filter = getIQROutlierBool(y_test, 1.5)\n",
    "X_test = X_test[outlier_filter]\n",
    "y_test = y_test[outlier_filter]\n",
    "dtest = xgb.DMatrix(X_test)\n",
    "\n",
    "# Predict with our model\n",
    "y_pred = model.predict(dtest)\n",
    "plt.scatter(y_test, y_pred)\n",
    "plt.xlabel('Real values')\n",
    "plt.ylabel('Predicted values')\n",
    "\n",
    "# Add a trend line\n",
    "regression = np.polyfit(y_test, y_pred, 1)\n",
    "x_vals = np.array([-0.15, 0.15])\n",
    "y_vals = regression[0]*x_vals + regression[1]\n",
    "plt.plot(x_vals, y_vals, color='green')\n",
    "\n",
    "plt.show()"
   ]
  },
  {
   "cell_type": "markdown",
   "metadata": {},
   "source": [
    "The figure above plots the `logerror` values we predict for the validation set versus the true values, as well as a trend line. We see that we have some correlation, but the slope is certainly not close to 45 degrees, and the spread of the points is very large. Our score of 0.67 does not indicate a very strong grasp on the problem, and likely neither do the top scores on the Kaggle leaderboard of around 0.64.\n",
    "\n",
    "Tuning the hyperparameters apparently helps little. Solving this problem requires something new altogether; either a different kind of model is required, or some novel insight into the data. Cutting out the outliers in the training set helps somewhat, but only so much. It will be interesting to see if anyone can find a way forward."
   ]
  }
 ],
 "metadata": {
  "anaconda-cloud": {},
  "kernelspec": {
   "display_name": "Python [conda root]",
   "language": "python",
   "name": "conda-root-py"
  },
  "language_info": {
   "codemirror_mode": {
    "name": "ipython",
    "version": 3
   },
   "file_extension": ".py",
   "mimetype": "text/x-python",
   "name": "python",
   "nbconvert_exporter": "python",
   "pygments_lexer": "ipython3",
   "version": "3.5.2"
  }
 },
 "nbformat": 4,
 "nbformat_minor": 1
}
